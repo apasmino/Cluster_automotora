{
 "cells": [
  {
   "cell_type": "markdown",
   "metadata": {},
   "source": [
    "## Segmentación Automotora"
   ]
  },
  {
   "cell_type": "code",
   "execution_count": 5,
   "metadata": {},
   "outputs": [],
   "source": [
    "library(dplyr) # for data cleaning\n",
    "library(ISLR) # for college dataset\n",
    "library(cluster) # for gower similarity and pam\n",
    "library(Rtsne) # for t-SNE plot\n",
    "library(compareGroups) #for compare group\n",
    "library(ggplot2) # for visualization"
   ]
  },
  {
   "cell_type": "code",
   "execution_count": 38,
   "metadata": {},
   "outputs": [],
   "source": [
    "setwd(\"C:/Users/alfredo/Documents/Diplomado\")"
   ]
  },
  {
   "cell_type": "code",
   "execution_count": 42,
   "metadata": {},
   "outputs": [],
   "source": [
    "df<-read.csv(\"./auto.txt\", header=T, sep=\"\\t\" ,row.names=\"Rut\")"
   ]
  },
  {
   "cell_type": "code",
   "execution_count": 43,
   "metadata": {},
   "outputs": [
    {
     "data": {
      "text/html": [
       "<table>\n",
       "<thead><tr><th scope=col>Marca</th><th scope=col>Modelo</th><th scope=col>Precio_LISTA</th><th scope=col>Bono_Dcto</th><th scope=col>Descto_Vendedor</th><th scope=col>Costo_Unidad</th><th scope=col>Total_Accesorios</th><th scope=col>Descto_Accesorios</th><th scope=col>Venta_Accesorios</th><th scope=col>Costo_Accesorios</th><th scope=col>Total_Tramites</th><th scope=col>Descto_Tramites</th><th scope=col>Sucursal</th><th scope=col>Condicion</th><th scope=col>Entidad_Financiera</th><th scope=col>Mantencion</th></tr></thead>\n",
       "<tbody>\n",
       "\t<tr><td>DFSK                             </td><td>4621/TRUCK SC 1.3 R14 SERIE V EV/</td><td> 7247100                         </td><td>833000                           </td><td>120000                           </td><td> 6448372                         </td><td>35200                            </td><td>35200                            </td><td>0                                </td><td>35200                            </td><td>165080                           </td><td>0                                </td><td>BYD - ZX - JMC PLAZA OESTE       </td><td>NUEVO Y SIN USO                  </td><td>FINANCIAMIENTO FORUM             </td><td>No                               </td></tr>\n",
       "\t<tr><td>DFSK                             </td><td>4671/580 1.5T LUXURY/            </td><td>11990000                         </td><td>     0                           </td><td>     0                           </td><td>11030800                         </td><td>45200                            </td><td>45200                            </td><td>0                                </td><td>45200                            </td><td>     0                           </td><td>0                                </td><td>BYD - ZX  PLAZA TOBALABA         </td><td>NUEVO Y SIN USO                  </td><td>FORUM SERVICIOS FINANCIEROS S.A. </td><td>No                               </td></tr>\n",
       "\t<tr><td>DFSK                             </td><td>4672/580 1.8L COMFORT/           </td><td> 9990000                         </td><td>     0                           </td><td>     0                           </td><td> 9190800                         </td><td>45200                            </td><td>45200                            </td><td>0                                </td><td>45200                            </td><td>     0                           </td><td>0                                </td><td>BYD - ZX - JMC PLAZA OESTE       </td><td>NUEVO Y SIN USO                  </td><td>FINANCIAMIENTO FORUM             </td><td>No                               </td></tr>\n",
       "\t<tr><td>DFSK                             </td><td>4622/TRUCK DC 1.3 R14 SERIE V EV/</td><td> 7842100                         </td><td>357000                           </td><td>     0                           </td><td> 6995772                         </td><td>35200                            </td><td>35200                            </td><td>0                                </td><td>35200                            </td><td>     0                           </td><td>0                                </td><td>DFSK JMC GRAN AVENIDA            </td><td>NUEVO Y SIN USO                  </td><td>Sin Financiera                   </td><td>No                               </td></tr>\n",
       "\t<tr><td>DFSK                             </td><td>4524/TRUCK SC XL 1.0 DA EV/      </td><td> 5462100                         </td><td>357000                           </td><td>105100                           </td><td> 4806172                         </td><td>35200                            </td><td>35200                            </td><td>0                                </td><td>35200                            </td><td>     0                           </td><td>0                                </td><td>DFSK JMC GRAN AVENIDA            </td><td>NUEVO Y SIN USO                  </td><td>Sin Financiera                   </td><td>No                               </td></tr>\n",
       "\t<tr><td>DFSK                             </td><td>4622/TRUCK DC 1.3 R14 SERIE V EV/</td><td> 7842100                         </td><td>357000                           </td><td>157936                           </td><td> 6995772                         </td><td>45200                            </td><td>45200                            </td><td>0                                </td><td>45200                            </td><td>     0                           </td><td>0                                </td><td>DFSK JMC GRAN AVENIDA            </td><td>NUEVO Y SIN USO                  </td><td>Sin Financiera                   </td><td>No                               </td></tr>\n",
       "</tbody>\n",
       "</table>\n"
      ],
      "text/latex": [
       "\\begin{tabular}{r|llllllllllllllll}\n",
       " Marca & Modelo & Precio\\_LISTA & Bono\\_Dcto & Descto\\_Vendedor & Costo\\_Unidad & Total\\_Accesorios & Descto\\_Accesorios & Venta\\_Accesorios & Costo\\_Accesorios & Total\\_Tramites & Descto\\_Tramites & Sucursal & Condicion & Entidad\\_Financiera & Mantencion\\\\\n",
       "\\hline\n",
       "\t DFSK                              & 4621/TRUCK SC 1.3 R14 SERIE V EV/ &  7247100                          & 833000                            & 120000                            &  6448372                          & 35200                             & 35200                             & 0                                 & 35200                             & 165080                            & 0                                 & BYD - ZX - JMC PLAZA OESTE        & NUEVO Y SIN USO                   & FINANCIAMIENTO FORUM              & No                               \\\\\n",
       "\t DFSK                              & 4671/580 1.5T LUXURY/             & 11990000                          &      0                            &      0                            & 11030800                          & 45200                             & 45200                             & 0                                 & 45200                             &      0                            & 0                                 & BYD - ZX  PLAZA TOBALABA          & NUEVO Y SIN USO                   & FORUM SERVICIOS FINANCIEROS S.A.  & No                               \\\\\n",
       "\t DFSK                              & 4672/580 1.8L COMFORT/            &  9990000                          &      0                            &      0                            &  9190800                          & 45200                             & 45200                             & 0                                 & 45200                             &      0                            & 0                                 & BYD - ZX - JMC PLAZA OESTE        & NUEVO Y SIN USO                   & FINANCIAMIENTO FORUM              & No                               \\\\\n",
       "\t DFSK                              & 4622/TRUCK DC 1.3 R14 SERIE V EV/ &  7842100                          & 357000                            &      0                            &  6995772                          & 35200                             & 35200                             & 0                                 & 35200                             &      0                            & 0                                 & DFSK JMC GRAN AVENIDA             & NUEVO Y SIN USO                   & Sin Financiera                    & No                               \\\\\n",
       "\t DFSK                              & 4524/TRUCK SC XL 1.0 DA EV/       &  5462100                          & 357000                            & 105100                            &  4806172                          & 35200                             & 35200                             & 0                                 & 35200                             &      0                            & 0                                 & DFSK JMC GRAN AVENIDA             & NUEVO Y SIN USO                   & Sin Financiera                    & No                               \\\\\n",
       "\t DFSK                              & 4622/TRUCK DC 1.3 R14 SERIE V EV/ &  7842100                          & 357000                            & 157936                            &  6995772                          & 45200                             & 45200                             & 0                                 & 45200                             &      0                            & 0                                 & DFSK JMC GRAN AVENIDA             & NUEVO Y SIN USO                   & Sin Financiera                    & No                               \\\\\n",
       "\\end{tabular}\n"
      ],
      "text/markdown": [
       "\n",
       "Marca | Modelo | Precio_LISTA | Bono_Dcto | Descto_Vendedor | Costo_Unidad | Total_Accesorios | Descto_Accesorios | Venta_Accesorios | Costo_Accesorios | Total_Tramites | Descto_Tramites | Sucursal | Condicion | Entidad_Financiera | Mantencion | \n",
       "|---|---|---|---|---|---|\n",
       "| DFSK                              | 4621/TRUCK SC 1.3 R14 SERIE V EV/ |  7247100                          | 833000                            | 120000                            |  6448372                          | 35200                             | 35200                             | 0                                 | 35200                             | 165080                            | 0                                 | BYD - ZX - JMC PLAZA OESTE        | NUEVO Y SIN USO                   | FINANCIAMIENTO FORUM              | No                                | \n",
       "| DFSK                              | 4671/580 1.5T LUXURY/             | 11990000                          |      0                            |      0                            | 11030800                          | 45200                             | 45200                             | 0                                 | 45200                             |      0                            | 0                                 | BYD - ZX  PLAZA TOBALABA          | NUEVO Y SIN USO                   | FORUM SERVICIOS FINANCIEROS S.A.  | No                                | \n",
       "| DFSK                              | 4672/580 1.8L COMFORT/            |  9990000                          |      0                            |      0                            |  9190800                          | 45200                             | 45200                             | 0                                 | 45200                             |      0                            | 0                                 | BYD - ZX - JMC PLAZA OESTE        | NUEVO Y SIN USO                   | FINANCIAMIENTO FORUM              | No                                | \n",
       "| DFSK                              | 4622/TRUCK DC 1.3 R14 SERIE V EV/ |  7842100                          | 357000                            |      0                            |  6995772                          | 35200                             | 35200                             | 0                                 | 35200                             |      0                            | 0                                 | DFSK JMC GRAN AVENIDA             | NUEVO Y SIN USO                   | Sin Financiera                    | No                                | \n",
       "| DFSK                              | 4524/TRUCK SC XL 1.0 DA EV/       |  5462100                          | 357000                            | 105100                            |  4806172                          | 35200                             | 35200                             | 0                                 | 35200                             |      0                            | 0                                 | DFSK JMC GRAN AVENIDA             | NUEVO Y SIN USO                   | Sin Financiera                    | No                                | \n",
       "| DFSK                              | 4622/TRUCK DC 1.3 R14 SERIE V EV/ |  7842100                          | 357000                            | 157936                            |  6995772                          | 45200                             | 45200                             | 0                                 | 45200                             |      0                            | 0                                 | DFSK JMC GRAN AVENIDA             | NUEVO Y SIN USO                   | Sin Financiera                    | No                                | \n",
       "\n",
       "\n"
      ],
      "text/plain": [
       "  Marca Modelo                            Precio_LISTA Bono_Dcto\n",
       "1 DFSK  4621/TRUCK SC 1.3 R14 SERIE V EV/  7247100     833000   \n",
       "2 DFSK  4671/580 1.5T LUXURY/             11990000          0   \n",
       "3 DFSK  4672/580 1.8L COMFORT/             9990000          0   \n",
       "4 DFSK  4622/TRUCK DC 1.3 R14 SERIE V EV/  7842100     357000   \n",
       "5 DFSK  4524/TRUCK SC XL 1.0 DA EV/        5462100     357000   \n",
       "6 DFSK  4622/TRUCK DC 1.3 R14 SERIE V EV/  7842100     357000   \n",
       "  Descto_Vendedor Costo_Unidad Total_Accesorios Descto_Accesorios\n",
       "1 120000           6448372     35200            35200            \n",
       "2      0          11030800     45200            45200            \n",
       "3      0           9190800     45200            45200            \n",
       "4      0           6995772     35200            35200            \n",
       "5 105100           4806172     35200            35200            \n",
       "6 157936           6995772     45200            45200            \n",
       "  Venta_Accesorios Costo_Accesorios Total_Tramites Descto_Tramites\n",
       "1 0                35200            165080         0              \n",
       "2 0                45200                 0         0              \n",
       "3 0                45200                 0         0              \n",
       "4 0                35200                 0         0              \n",
       "5 0                35200                 0         0              \n",
       "6 0                45200                 0         0              \n",
       "  Sucursal                   Condicion       Entidad_Financiera              \n",
       "1 BYD - ZX - JMC PLAZA OESTE NUEVO Y SIN USO FINANCIAMIENTO FORUM            \n",
       "2 BYD - ZX  PLAZA TOBALABA   NUEVO Y SIN USO FORUM SERVICIOS FINANCIEROS S.A.\n",
       "3 BYD - ZX - JMC PLAZA OESTE NUEVO Y SIN USO FINANCIAMIENTO FORUM            \n",
       "4 DFSK JMC GRAN AVENIDA      NUEVO Y SIN USO Sin Financiera                  \n",
       "5 DFSK JMC GRAN AVENIDA      NUEVO Y SIN USO Sin Financiera                  \n",
       "6 DFSK JMC GRAN AVENIDA      NUEVO Y SIN USO Sin Financiera                  \n",
       "  Mantencion\n",
       "1 No        \n",
       "2 No        \n",
       "3 No        \n",
       "4 No        \n",
       "5 No        \n",
       "6 No        "
      ]
     },
     "metadata": {},
     "output_type": "display_data"
    }
   ],
   "source": [
    "head(df) #leemos los 5 primeras líneas"
   ]
  },
  {
   "cell_type": "code",
   "execution_count": 35,
   "metadata": {
    "scrolled": true
   },
   "outputs": [
    {
     "name": "stdout",
     "output_type": "stream",
     "text": [
      "'data.frame':\t1321 obs. of  16 variables:\n",
      " $ Marca             : Factor w/ 21 levels \"BYD\",\"CHEVROLET\",..: 3 3 3 3 3 3 3 3 3 10 ...\n",
      " $ Modelo            : Factor w/ 284 levels \"0000/SAIL 1.4 MT LT/\",..: 157 164 165 158 152 158 158 158 158 80 ...\n",
      " $ Precio_LISTA      : int  7247100 11990000 9990000 7842100 5462100 7842100 7842100 7842100 7842100 9390000 ...\n",
      " $ Bono_Dcto         : int  833000 0 0 357000 357000 357000 595000 595000 517000 840000 ...\n",
      " $ Descto_Vendedor   : int  120000 0 0 0 105100 157936 425535 238000 170100 0 ...\n",
      " $ Costo_Unidad      : int  6448372 11030800 9190800 6995772 4806172 6995772 6995772 6995772 6995772 8596899 ...\n",
      " $ Total_Accesorios  : int  35200 45200 45200 35200 35200 45200 30000 45200 30000 234470 ...\n",
      " $ Descto_Accesorios : int  35200 45200 45200 35200 35200 45200 30000 30000 30000 234470 ...\n",
      " $ Venta_Accesorios  : int  0 0 0 0 0 0 0 15200 0 0 ...\n",
      " $ Costo_Accesorios  : int  35200 45200 45200 35200 35200 45200 45200 45200 30000 234470 ...\n",
      " $ Total_Tramites    : int  165080 0 0 0 0 0 0 0 0 0 ...\n",
      " $ Descto_Tramites   : int  0 0 0 0 0 0 0 0 0 0 ...\n",
      " $ Sucursal          : Factor w/ 23 levels \"BYD - ZX - JMC PLAZA OESTE\",..: 1 2 1 3 3 3 2 2 3 6 ...\n",
      " $ Condicion         : Factor w/ 3 levels \"CONSIGNACION / USADO\",..: 2 2 2 2 2 2 2 2 2 2 ...\n",
      " $ Entidad_Financiera: Factor w/ 16 levels \"AUTOFIN S.A\",..: 7 11 7 14 14 14 14 7 14 16 ...\n",
      " $ Mantencion        : Factor w/ 2 levels \"No\",\"Si\": 1 1 1 1 1 1 1 1 1 2 ...\n"
     ]
    }
   ],
   "source": [
    "str(df) #revisamos las variables"
   ]
  },
  {
   "cell_type": "markdown",
   "metadata": {},
   "source": [
    " Tenemos variables númericas y categoricas, vamos a utilizar el coeficiente Gower en el dataframe"
   ]
  },
  {
   "cell_type": "code",
   "execution_count": 66,
   "metadata": {},
   "outputs": [],
   "source": [
    "matDist<-daisy(df, metric = \"gower\")"
   ]
  },
  {
   "cell_type": "code",
   "execution_count": 92,
   "metadata": {
    "collapsed": true
   },
   "outputs": [],
   "source": [
    "set.seed(123)\n",
    "mixedClusters<-kmeans(matDist, centers=3) #creamos 4 clusters"
   ]
  },
  {
   "cell_type": "code",
   "execution_count": 93,
   "metadata": {},
   "outputs": [
    {
     "data": {
      "text/plain": [
       "\n",
       "  1   2   3 \n",
       "182 634 505 "
      ]
     },
     "metadata": {},
     "output_type": "display_data"
    }
   ],
   "source": [
    "table(mixedClusters$cluster) #revisamos la segmentación"
   ]
  },
  {
   "cell_type": "code",
   "execution_count": 94,
   "metadata": {},
   "outputs": [],
   "source": [
    "df$cluster<-mixedClusters$cluster #almacenasmos el cluster"
   ]
  },
  {
   "cell_type": "code",
   "execution_count": 95,
   "metadata": {},
   "outputs": [
    {
     "name": "stderr",
     "output_type": "stream",
     "text": [
      "Warning message in compareGroups.default(X = X, y = y, include.label = include.label, :\n",
      "\"Variables 'Marca', 'Modelo', 'Sucursal', 'Entidad_Financiera' have been removed since some errors occurred\""
     ]
    }
   ],
   "source": [
    "group<-compareGroups(cluster~.,data=df)"
   ]
  },
  {
   "cell_type": "code",
   "execution_count": 96,
   "metadata": {
    "collapsed": true
   },
   "outputs": [],
   "source": [
    "clustab<-createTable(group)"
   ]
  },
  {
   "cell_type": "code",
   "execution_count": 97,
   "metadata": {},
   "outputs": [
    {
     "data": {
      "text/plain": [
       "\n",
       "--------Summary descriptives table by 'cluster'---------\n",
       "\n",
       "__________________________________________________________________________________________ \n",
       "                                 1                 2                  3          p.overall \n",
       "                               N=182             N=634              N=505                  \n",
       "¯¯¯¯¯¯¯¯¯¯¯¯¯¯¯¯¯¯¯¯¯¯¯¯¯¯¯¯¯¯¯¯¯¯¯¯¯¯¯¯¯¯¯¯¯¯¯¯¯¯¯¯¯¯¯¯¯¯¯¯¯¯¯¯¯¯¯¯¯¯¯¯¯¯¯¯¯¯¯¯¯¯¯¯¯¯¯¯¯¯ \n",
       "Precio_LISTA             8199852 (4441071) 14082936 (4824255) 11565406 (3755029)  <0.001   \n",
       "Bono_Dcto                 32175 (150980)    681310 (637054)    510215 (269496)    <0.001   \n",
       "Descto_Vendedor           281814 (546875)   532200 (458139)    348398 (298949)    <0.001   \n",
       "Costo_Unidad             7234626 (4221610) 12848509 (4350910) 10668430 (3423080)  <0.001   \n",
       "Total_Accesorios          63477 (484329)    113259 (187216)     103559 (91731)     0.035   \n",
       "Descto_Accesorios          25966 (76062)     43726 (99894)      101655 (91139)    <0.001   \n",
       "Venta_Accesorios          37511 (475766)     69534 (160664)      1904 (16944)     <0.001   \n",
       "Costo_Accesorios          65032 (485414)    116677 (178797)     109388 (96566)     0.024   \n",
       "Total_Tramites            173234 (274060)   284575 (236113)    282049 (231090)    <0.001   \n",
       "Descto_Tramites           138129 (130430)    22850 (88274)      11444 (52639)     <0.001   \n",
       "Condicion:                                                                        <0.001   \n",
       "    CONSIGNACION / USADO     3 (1.65%)         0 (0.00%)          0 (0.00%)                \n",
       "    NUEVO Y SIN USO         11 (6.04%)         634 (100%)         505 (100%)               \n",
       "    USADO                   168 (92.3%)        0 (0.00%)          0 (0.00%)                \n",
       "Mantencion:                                                                       <0.001   \n",
       "    No                      177 (97.3%)       598 (94.3%)        451 (89.3%)               \n",
       "    Si                       5 (2.75%)         36 (5.68%)         54 (10.7%)               \n",
       "¯¯¯¯¯¯¯¯¯¯¯¯¯¯¯¯¯¯¯¯¯¯¯¯¯¯¯¯¯¯¯¯¯¯¯¯¯¯¯¯¯¯¯¯¯¯¯¯¯¯¯¯¯¯¯¯¯¯¯¯¯¯¯¯¯¯¯¯¯¯¯¯¯¯¯¯¯¯¯¯¯¯¯¯¯¯¯¯¯¯ "
      ]
     },
     "metadata": {},
     "output_type": "display_data"
    }
   ],
   "source": [
    "clustab"
   ]
  },
  {
   "cell_type": "code",
   "execution_count": 98,
   "metadata": {},
   "outputs": [
    {
     "ename": "ERROR",
     "evalue": "Error in points(cl$centers, col = 1:5, pch = 8): objeto 'cl' no encontrado\n",
     "output_type": "error",
     "traceback": [
      "Error in points(cl$centers, col = 1:5, pch = 8): objeto 'cl' no encontrado\nTraceback:\n",
      "1. points(cl$centers, col = 1:5, pch = 8)"
     ]
    },
    {
     "data": {
      "image/png": "[encoded data removed]",
      "text/plain": [
       "plot without title"
      ]
     },
     "metadata": {},
     "output_type": "display_data"
    }
   ],
   "source": [
    "plot(df[,1:3], col=df$cluster, main=\"Cluster\", pch=20, lwd=3)\n",
    "points(cl$centers, col=1:5, pch=8)"
   ]
  }
 ],
 "metadata": {
  "kernelspec": {
   "display_name": "R",
   "language": "R",
   "name": "ir"
  },
  "language_info": {
   "codemirror_mode": "r",
   "file_extension": ".r",
   "mimetype": "text/x-r-source",
   "name": "R",
   "pygments_lexer": "r",
   "version": "3.4.1"
  }
 },
 "nbformat": 4,
 "nbformat_minor": 2
}
